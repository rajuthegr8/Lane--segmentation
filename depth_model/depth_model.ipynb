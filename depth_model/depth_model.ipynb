{
  "nbformat": 4,
  "nbformat_minor": 0,
  "metadata": {
    "colab": {
      "name": "depth_model.ipynb",
      "provenance": [],
      "collapsed_sections": []
    },
    "kernelspec": {
      "name": "python3",
      "display_name": "Python 3"
    },
    "accelerator": "GPU"
  },
  "cells": [
    {
      "cell_type": "code",
      "metadata": {
        "id": "0dqmWqjTJ899",
        "colab_type": "code",
        "colab": {
          "base_uri": "https://localhost:8080/",
          "height": 55
        },
        "outputId": "bfa30e73-e612-49d7-d3c0-ee74e48c4885"
      },
      "source": [
        "from google.colab import drive\n",
        "drive.mount('/content/drive')\n",
        "!cp -r \"/content/drive/My Drive/depth_code/.\" \"/content\""
      ],
      "execution_count": 49,
      "outputs": [
        {
          "output_type": "stream",
          "text": [
            "Drive already mounted at /content/drive; to attempt to forcibly remount, call drive.mount(\"/content/drive\", force_remount=True).\n"
          ],
          "name": "stdout"
        }
      ]
    },
    {
      "cell_type": "code",
      "metadata": {
        "id": "TxTGW2_XKPQD",
        "colab_type": "code",
        "colab": {}
      },
      "source": [
        "import torch\n",
        "import torch.nn as nn\n",
        "import torch.optim as optim\n",
        "import torch.nn.functional as F\n",
        "import torch.backends.cudnn as cudnn\n",
        "from torch.autograd import Variable\n",
        "from torch.utils import data\n",
        "import torchvision\n",
        "import torchvision.transforms as transforms\n",
        "import matplotlib.pyplot as plt\n",
        "import os\n",
        "from PIL import Image\n",
        "import cv2\n",
        "import numpy as np\n",
        "from google.colab.patches import cv2_imshow\n",
        "import time\n",
        "import sys\n",
        "import torchvision.models as models\n",
        "import random\n",
        "\n",
        "import networks\n",
        "#from refinenet import *\n",
        "##### Checking for cuda \n",
        "if torch.cuda.is_available():\n",
        "        device = torch.device(\"cuda\")\n",
        "else:\n",
        "        device = torch.device(\"cpu\")"
      ],
      "execution_count": 0,
      "outputs": []
    },
    {
      "cell_type": "code",
      "metadata": {
        "id": "M8RRG48uKb-M",
        "colab_type": "code",
        "colab": {
          "base_uri": "https://localhost:8080/",
          "height": 1000
        },
        "outputId": "4fdef4d9-35ed-4a8a-8ad4-c17fccfbaaf6"
      },
      "source": [
        "#DEPTH NETWORK\n",
        "\n",
        "model_path = \"/content\"\n",
        "\n",
        "encoder_path = os.path.join(model_path, \"encoder.pth\")\n",
        "depth_decoder_path = os.path.join(model_path, \"depth.pth\")\n",
        "\n",
        "# LOADING PRETRAINED MODEL\n",
        "print(\"   Loading pretrained encoder\")\n",
        "encoder = networks.ResnetEncoder(18, False)\n",
        "loaded_dict_enc = torch.load(encoder_path, map_location=device)\n",
        "# extract the height and width of image that this model was trained with\n",
        "feed_height = loaded_dict_enc['height']\n",
        "feed_width = loaded_dict_enc['width']\n",
        "filtered_dict_enc = {k: v for k, v in loaded_dict_enc.items() if k in encoder.state_dict()}\n",
        "encoder.load_state_dict(filtered_dict_enc)\n",
        "#Encoder for depth\n",
        "encoder.to(device)\n",
        "\n",
        "print(\"   Loading pretrained decoder\")\n",
        "depth_decoder = networks.DepthDecoder(\n",
        "num_ch_enc=encoder.num_ch_enc, scales=range(4))\n",
        "\n",
        "loaded_dict = torch.load(depth_decoder_path, map_location=device)\n",
        "depth_decoder.load_state_dict(loaded_dict)\n",
        "\n",
        "#Decoder for depth\n",
        "depth_decoder.to(device)"
      ],
      "execution_count": 51,
      "outputs": [
        {
          "output_type": "stream",
          "text": [
            "   Loading pretrained encoder\n",
            "   Loading pretrained decoder\n"
          ],
          "name": "stdout"
        },
        {
          "output_type": "execute_result",
          "data": {
            "text/plain": [
              "DepthDecoder(\n",
              "  (decoder): ModuleList(\n",
              "    (0): ConvBlock(\n",
              "      (conv): Conv3x3(\n",
              "        (pad): ReflectionPad2d((1, 1, 1, 1))\n",
              "        (conv): Conv2d(512, 256, kernel_size=(3, 3), stride=(1, 1))\n",
              "      )\n",
              "      (nonlin): ELU(alpha=1.0, inplace=True)\n",
              "    )\n",
              "    (1): ConvBlock(\n",
              "      (conv): Conv3x3(\n",
              "        (pad): ReflectionPad2d((1, 1, 1, 1))\n",
              "        (conv): Conv2d(512, 256, kernel_size=(3, 3), stride=(1, 1))\n",
              "      )\n",
              "      (nonlin): ELU(alpha=1.0, inplace=True)\n",
              "    )\n",
              "    (2): ConvBlock(\n",
              "      (conv): Conv3x3(\n",
              "        (pad): ReflectionPad2d((1, 1, 1, 1))\n",
              "        (conv): Conv2d(256, 128, kernel_size=(3, 3), stride=(1, 1))\n",
              "      )\n",
              "      (nonlin): ELU(alpha=1.0, inplace=True)\n",
              "    )\n",
              "    (3): ConvBlock(\n",
              "      (conv): Conv3x3(\n",
              "        (pad): ReflectionPad2d((1, 1, 1, 1))\n",
              "        (conv): Conv2d(256, 128, kernel_size=(3, 3), stride=(1, 1))\n",
              "      )\n",
              "      (nonlin): ELU(alpha=1.0, inplace=True)\n",
              "    )\n",
              "    (4): ConvBlock(\n",
              "      (conv): Conv3x3(\n",
              "        (pad): ReflectionPad2d((1, 1, 1, 1))\n",
              "        (conv): Conv2d(128, 64, kernel_size=(3, 3), stride=(1, 1))\n",
              "      )\n",
              "      (nonlin): ELU(alpha=1.0, inplace=True)\n",
              "    )\n",
              "    (5): ConvBlock(\n",
              "      (conv): Conv3x3(\n",
              "        (pad): ReflectionPad2d((1, 1, 1, 1))\n",
              "        (conv): Conv2d(128, 64, kernel_size=(3, 3), stride=(1, 1))\n",
              "      )\n",
              "      (nonlin): ELU(alpha=1.0, inplace=True)\n",
              "    )\n",
              "    (6): ConvBlock(\n",
              "      (conv): Conv3x3(\n",
              "        (pad): ReflectionPad2d((1, 1, 1, 1))\n",
              "        (conv): Conv2d(64, 32, kernel_size=(3, 3), stride=(1, 1))\n",
              "      )\n",
              "      (nonlin): ELU(alpha=1.0, inplace=True)\n",
              "    )\n",
              "    (7): ConvBlock(\n",
              "      (conv): Conv3x3(\n",
              "        (pad): ReflectionPad2d((1, 1, 1, 1))\n",
              "        (conv): Conv2d(96, 32, kernel_size=(3, 3), stride=(1, 1))\n",
              "      )\n",
              "      (nonlin): ELU(alpha=1.0, inplace=True)\n",
              "    )\n",
              "    (8): ConvBlock(\n",
              "      (conv): Conv3x3(\n",
              "        (pad): ReflectionPad2d((1, 1, 1, 1))\n",
              "        (conv): Conv2d(32, 16, kernel_size=(3, 3), stride=(1, 1))\n",
              "      )\n",
              "      (nonlin): ELU(alpha=1.0, inplace=True)\n",
              "    )\n",
              "    (9): ConvBlock(\n",
              "      (conv): Conv3x3(\n",
              "        (pad): ReflectionPad2d((1, 1, 1, 1))\n",
              "        (conv): Conv2d(16, 16, kernel_size=(3, 3), stride=(1, 1))\n",
              "      )\n",
              "      (nonlin): ELU(alpha=1.0, inplace=True)\n",
              "    )\n",
              "    (10): Conv3x3(\n",
              "      (pad): ReflectionPad2d((1, 1, 1, 1))\n",
              "      (conv): Conv2d(16, 1, kernel_size=(3, 3), stride=(1, 1))\n",
              "    )\n",
              "    (11): Conv3x3(\n",
              "      (pad): ReflectionPad2d((1, 1, 1, 1))\n",
              "      (conv): Conv2d(32, 1, kernel_size=(3, 3), stride=(1, 1))\n",
              "    )\n",
              "    (12): Conv3x3(\n",
              "      (pad): ReflectionPad2d((1, 1, 1, 1))\n",
              "      (conv): Conv2d(64, 1, kernel_size=(3, 3), stride=(1, 1))\n",
              "    )\n",
              "    (13): Conv3x3(\n",
              "      (pad): ReflectionPad2d((1, 1, 1, 1))\n",
              "      (conv): Conv2d(128, 1, kernel_size=(3, 3), stride=(1, 1))\n",
              "    )\n",
              "  )\n",
              "  (sigmoid): Sigmoid()\n",
              ")"
            ]
          },
          "metadata": {
            "tags": []
          },
          "execution_count": 51
        }
      ]
    },
    {
      "cell_type": "code",
      "metadata": {
        "id": "8wC4bzpaKeN0",
        "colab_type": "code",
        "colab": {}
      },
      "source": [
        "image_path = \"/content/drive/My Drive/2_2_images/2_2_gan/300.jpg\"\n",
        "im = Image.open(image_path)\n",
        "im = torchvision.transforms.functional.resize(im, (feed_height,feed_width), interpolation=2)\n",
        "im = torch.unsqueeze(transforms.ToTensor()(im),dim=0).to(device)\n",
        "depth = depth_decoder(encoder(im))"
      ],
      "execution_count": 0,
      "outputs": []
    },
    {
      "cell_type": "code",
      "metadata": {
        "id": "Lr0Vb3F6PHQq",
        "colab_type": "code",
        "colab": {}
      },
      "source": [
        "disp = depth[(\"disp\", 0)]"
      ],
      "execution_count": 0,
      "outputs": []
    },
    {
      "cell_type": "code",
      "metadata": {
        "id": "ICYZED2cPQ01",
        "colab_type": "code",
        "colab": {}
      },
      "source": [
        "img = torchvision.transforms.ToPILImage(mode=None)(torch.squeeze(disp,dim=0))"
      ],
      "execution_count": 0,
      "outputs": []
    },
    {
      "cell_type": "code",
      "metadata": {
        "id": "JLaT42XURBt5",
        "colab_type": "code",
        "colab": {}
      },
      "source": [
        "img.save(\"depth_10.png\")"
      ],
      "execution_count": 0,
      "outputs": []
    },
    {
      "cell_type": "code",
      "metadata": {
        "id": "XGXrsksNWchC",
        "colab_type": "code",
        "colab": {
          "base_uri": "https://localhost:8080/",
          "height": 209
        },
        "outputId": "549e6c75-5563-4cdb-821f-4c24fc0068de"
      },
      "source": [
        "img"
      ],
      "execution_count": 48,
      "outputs": [
        {
          "output_type": "execute_result",
          "data": {
            "image/png": "[encoded data removed]",
            "text/plain": [
              "<PIL.Image.Image image mode=L size=640x192 at 0x7F50CF907828>"
            ]
          },
          "metadata": {
            "tags": []
          },
          "execution_count": 48
        }
      ]
    },
    {
      "cell_type": "code",
      "metadata": {
        "id": "ma0IB2nSbP4C",
        "colab_type": "code",
        "colab": {}
      },
      "source": [
        ""
      ],
      "execution_count": 0,
      "outputs": []
    }
  ]
}