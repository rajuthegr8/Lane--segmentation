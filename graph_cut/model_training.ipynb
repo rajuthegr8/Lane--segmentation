{
  "nbformat": 4,
  "nbformat_minor": 0,
  "metadata": {
    "colab": {
      "name": "tlink_estimator.ipynb",
      "provenance": [],
      "collapsed_sections": []
    },
    "kernelspec": {
      "name": "python3",
      "display_name": "Python 3"
    },
    "accelerator": "GPU"
  },
  "cells": [
    {
      "cell_type": "code",
      "metadata": {
        "id": "5ONOIckUI1z9",
        "colab_type": "code",
        "outputId": "ed517345-b97f-418c-edfd-abecd7df8f5e",
        "colab": {
          "base_uri": "https://localhost:8080/",
          "height": 34
        }
      },
      "source": [
        "from google.colab import drive\n",
        "drive.mount('/content/drive')"
      ],
      "execution_count": 0,
      "outputs": [
        {
          "output_type": "stream",
          "text": [
            "Drive already mounted at /content/drive; to attempt to forcibly remount, call drive.mount(\"/content/drive\", force_remount=True).\n"
          ],
          "name": "stdout"
        }
      ]
    },
    {
      "cell_type": "code",
      "metadata": {
        "id": "RJtS178lJM50",
        "colab_type": "code",
        "outputId": "add3a6c4-4f63-44cc-9e03-4bf7b41e3772",
        "colab": {
          "base_uri": "https://localhost:8080/",
          "height": 34
        }
      },
      "source": [
        "!ls \"/content/drive/My Drive/tlink_data\""
      ],
      "execution_count": 0,
      "outputs": [
        {
          "output_type": "stream",
          "text": [
            "train_X_tlink.npy  train_Y_tlink.npy\n"
          ],
          "name": "stdout"
        }
      ]
    },
    {
      "cell_type": "code",
      "metadata": {
        "id": "y3FTUsdYJxb3",
        "colab_type": "code",
        "colab": {}
      },
      "source": [
        "import numpy as np\n",
        "import matplotlib.pyplot as plt\n",
        "import torch"
      ],
      "execution_count": 0,
      "outputs": []
    },
    {
      "cell_type": "code",
      "metadata": {
        "id": "EQz_s1u8J1Dl",
        "colab_type": "code",
        "colab": {}
      },
      "source": [
        "#load data\n",
        "features = np.load(\"/content/drive/My Drive/tlink_data/train_X_tlink.npy\")\n",
        "label = np.load(\"/content/drive/My Drive/tlink_data/train_Y_tlink.npy\")"
      ],
      "execution_count": 0,
      "outputs": []
    },
    {
      "cell_type": "code",
      "metadata": {
        "id": "jU_glZ1RJ_6b",
        "colab_type": "code",
        "outputId": "fb9949e6-aed8-484a-ed8d-c4f2b710837f",
        "colab": {
          "base_uri": "https://localhost:8080/",
          "height": 67
        }
      },
      "source": [
        "#label = np.resize(label, (label.shape[0], 1))\n",
        "print(features.shape)\n",
        "print(label.shape)\n",
        "print(np.sum(label))"
      ],
      "execution_count": 0,
      "outputs": [
        {
          "output_type": "stream",
          "text": [
            "(587842, 13)\n",
            "(587842,)\n",
            "128300\n"
          ],
          "name": "stdout"
        }
      ]
    },
    {
      "cell_type": "code",
      "metadata": {
        "id": "Q7d7fLLSKSfi",
        "colab_type": "code",
        "colab": {}
      },
      "source": [
        "features = features.astype('float32')\n",
        "label = label.astype('float32')"
      ],
      "execution_count": 0,
      "outputs": []
    },
    {
      "cell_type": "code",
      "metadata": {
        "id": "jpUT4cdkKYTw",
        "colab_type": "code",
        "colab": {}
      },
      "source": [
        "import torch.utils.data\n",
        "X_train = torch.from_numpy(features)\n",
        "Y_train = torch.from_numpy(label)\n",
        "\n",
        "train = torch.utils.data.TensorDataset(X_train,Y_train)\n",
        "\n",
        "train_loader = torch.utils.data.DataLoader(train, batch_size = 65536, shuffle = False)"
      ],
      "execution_count": 0,
      "outputs": []
    },
    {
      "cell_type": "code",
      "metadata": {
        "id": "x-bgNqniKc0V",
        "colab_type": "code",
        "outputId": "db2d4e53-b553-4a2d-907d-b22383162f07",
        "colab": {
          "base_uri": "https://localhost:8080/",
          "height": 34
        }
      },
      "source": [
        "device = torch.device(\"cuda:0\" if torch.cuda.is_available() else \"cpu\")\n",
        "print(device)"
      ],
      "execution_count": 0,
      "outputs": [
        {
          "output_type": "stream",
          "text": [
            "cuda:0\n"
          ],
          "name": "stdout"
        }
      ]
    },
    {
      "cell_type": "code",
      "metadata": {
        "id": "sgAyRVr9KhFf",
        "colab_type": "code",
        "outputId": "22ec808c-6c54-475c-8379-17ba0fcb8583",
        "colab": {
          "base_uri": "https://localhost:8080/",
          "height": 134
        }
      },
      "source": [
        "# Network architecture\n",
        "\n",
        "import torch.nn as nn\n",
        "import torch.nn.functional as F\n",
        "\n",
        "class Net(nn.Module):\n",
        "    def __init__(self):\n",
        "        super(Net, self).__init__()\n",
        "        self.fc1 = nn.Linear(13, 20)\n",
        "        self.fc2 = nn.Linear(20, 20)\n",
        "        self.fc3 = nn.Linear(20, 20)\n",
        "        self.fc4 = nn.Linear(20, 1)\n",
        "        \n",
        "    def forward(self, x):\n",
        "        x = torch.tanh(self.fc1(x))\n",
        "        x = torch.tanh(self.fc2(x))\n",
        "        x = torch.tanh(self.fc3(x))\n",
        "        x = torch.sigmoid(self.fc4(x))\n",
        "        return x\n",
        "\n",
        "net = Net()\n",
        "print(device)\n",
        "net.to(device)"
      ],
      "execution_count": 0,
      "outputs": [
        {
          "output_type": "stream",
          "text": [
            "cuda:0\n"
          ],
          "name": "stdout"
        },
        {
          "output_type": "execute_result",
          "data": {
            "text/plain": [
              "Net(\n",
              "  (fc1): Linear(in_features=13, out_features=20, bias=True)\n",
              "  (fc2): Linear(in_features=20, out_features=20, bias=True)\n",
              "  (fc3): Linear(in_features=20, out_features=20, bias=True)\n",
              "  (fc4): Linear(in_features=20, out_features=1, bias=True)\n",
              ")"
            ]
          },
          "metadata": {
            "tags": []
          },
          "execution_count": 50
        }
      ]
    },
    {
      "cell_type": "code",
      "metadata": {
        "id": "TJUaIDyBK8DL",
        "colab_type": "code",
        "colab": {}
      },
      "source": [
        "# training\n",
        "def train(net, initial_lr = 0.0005):\n",
        "  \n",
        "  import torch.optim as optim\n",
        "  criterion = torch.nn.BCELoss()\n",
        "  optimizer = optim.Adam(net.parameters(), lr=initial_lr)\n",
        "\n",
        "  def lr_scheduler(optimizer, epoch, lr_init=initial_lr):\n",
        "    \"\"\"Decay learning rate by a factor of (1/(epoch^0.1)) every lr_decay_epoch epochs.\"\"\"\n",
        "    \n",
        "    for param_group in optimizer.param_groups:\n",
        "        param_group['lr'] = (lr_init)/(np.power(epoch+1, 0.1))\n",
        "        \n",
        "    return optimizer\n",
        "  \n",
        "  \n",
        "  lossList = []\n",
        "  for epoch in range(250):  # loop over the dataset multiple times\n",
        "      running_loss = 0.0\n",
        "      count = 0\n",
        "\n",
        "\n",
        "      for i, data in enumerate(train_loader, 0):\n",
        "          # get the inputs; data is a list of [inputs, labels]\n",
        "          inputs, groundtruth = data[0].to(device), data[1].to(device)\n",
        "          #inputs, groundtruth = data\n",
        "          # zero the parameter gradients\n",
        "          optimizer.zero_grad()\n",
        "          # forward + backward + optimize\n",
        "          outputs = net(inputs.float())\n",
        "          outputs = outputs.reshape(groundtruth.shape)\n",
        "          loss = criterion(outputs, groundtruth)\n",
        "          loss.backward()\n",
        "          optimizer.step()\n",
        "          running_loss += loss.item()\n",
        "          count += 1\n",
        "\n",
        "\n",
        "      #change learning rate\n",
        "      optimizer = lr_scheduler(optimizer, epoch)\n",
        "      print(str(epoch)+\": \"+str(running_loss/count))\n",
        "      lossList.append(running_loss/count)\n",
        "      \n",
        "  #plot learning curve\n",
        "  epoch_count = range(1, epoch+2)\n",
        "  plt.plot(epoch_count, lossList, 'b-')\n",
        "  plt.title('Learning Curve')\n",
        "  plt.ylabel('Loss')\n",
        "  plt.xlabel('Iteration')\n",
        "  plt.legend(['Training Loss'])\n",
        "  plt.show()\n",
        "  print('Finished Training')\n",
        "  return net"
      ],
      "execution_count": 0,
      "outputs": []
    },
    {
      "cell_type": "code",
      "metadata": {
        "id": "5uqanIxINO50",
        "colab_type": "code",
        "outputId": "13ee592a-c471-4952-c06e-685b30a83858",
        "colab": {
          "base_uri": "https://localhost:8080/",
          "height": 1000
        }
      },
      "source": [
        "net = train(net, 0.0005)"
      ],
      "execution_count": 0,
      "outputs": [
        {
          "output_type": "stream",
          "text": [
            "0: 0.6851074364450243\n",
            "1: 0.6452042327986823\n",
            "2: 0.610327316655053\n",
            "3: 0.5825786855485704\n",
            "4: 0.5611624783939786\n",
            "5: 0.5454881919754876\n",
            "6: 0.5347069501876831\n",
            "7: 0.5276482767528958\n",
            "8: 0.5233298871252272\n",
            "9: 0.5205996831258138\n",
            "10: 0.5173929929733276\n",
            "11: 0.5147686766253577\n",
            "12: 0.5125238200028738\n",
            "13: 0.5099024971326193\n",
            "14: 0.5069548189640045\n",
            "15: 0.503703213400311\n",
            "16: 0.5001132057772743\n",
            "17: 0.49620164765252006\n",
            "18: 0.4919910530249278\n",
            "19: 0.48748891883426243\n",
            "20: 0.4827088514963786\n",
            "21: 0.47768543163935345\n",
            "22: 0.4724861416551802\n",
            "23: 0.46721087561713326\n",
            "24: 0.46196940872404313\n",
            "25: 0.45685119761361015\n",
            "26: 0.4518816437986162\n",
            "27: 0.4470272759596507\n",
            "28: 0.44217999113930595\n",
            "29: 0.43742431534661186\n",
            "30: 0.4332965645525191\n",
            "31: 0.42937233050664264\n",
            "32: 0.4255939523379008\n",
            "33: 0.4219241572750939\n",
            "34: 0.4183644453684489\n",
            "35: 0.4148688316345215\n",
            "36: 0.4114493595229255\n",
            "37: 0.40810361835691666\n",
            "38: 0.4047969612810347\n",
            "39: 0.4014592733648088\n",
            "40: 0.3981086048814986\n",
            "41: 0.39484602212905884\n",
            "42: 0.39151255951987374\n",
            "43: 0.38792919450336033\n",
            "44: 0.3846539126502143\n",
            "45: 0.38154738810327316\n",
            "46: 0.37839921977784896\n",
            "47: 0.37534914082951015\n",
            "48: 0.3724413381682502\n",
            "49: 0.3695455822679732\n"
          ],
          "name": "stdout"
        },
        {
          "output_type": "display_data",
          "data": {
            "image/png": "[encoded data removed]",
            "text/plain": [
              "<Figure size 432x288 with 1 Axes>"
            ]
          },
          "metadata": {
            "tags": []
          }
        },
        {
          "output_type": "stream",
          "text": [
            "Finished Training\n"
          ],
          "name": "stdout"
        }
      ]
    },
    {
      "cell_type": "code",
      "metadata": {
        "id": "qQh6mwHaLCzS",
        "colab_type": "code",
        "outputId": "1b30ac5e-c82c-4542-e6ff-22ca0f272d3d",
        "colab": {
          "base_uri": "https://localhost:8080/",
          "height": 104
        }
      },
      "source": [
        "torch.save(net, '/content/drive/My Drive/tlink_data/t_model_50.pt')"
      ],
      "execution_count": 0,
      "outputs": [
        {
          "output_type": "stream",
          "text": [
            "/usr/local/lib/python3.6/dist-packages/torch/serialization.py:292: UserWarning: Couldn't retrieve source code for container of type Net. It won't be checked for correctness upon loading.\n",
            "  \"type \" + obj.__name__ + \". It won't be checked \"\n",
            "/usr/local/lib/python3.6/dist-packages/torch/serialization.py:292: UserWarning: Couldn't retrieve source code for container of type Linear. It won't be checked for correctness upon loading.\n",
            "  \"type \" + obj.__name__ + \". It won't be checked \"\n"
          ],
          "name": "stderr"
        }
      ]
    },
    {
      "cell_type": "code",
      "metadata": {
        "id": "jS__9w4OLM-V",
        "colab_type": "code",
        "outputId": "2223e017-8dda-4c0b-fdfb-b08214d6b797",
        "colab": {
          "base_uri": "https://localhost:8080/",
          "height": 118
        }
      },
      "source": [
        "net = torch.load('/content/drive/My Drive/tlink_data/t_model_50.pt')\n",
        "net.eval()"
      ],
      "execution_count": 0,
      "outputs": [
        {
          "output_type": "execute_result",
          "data": {
            "text/plain": [
              "Net(\n",
              "  (fc1): Linear(in_features=13, out_features=20, bias=True)\n",
              "  (fc2): Linear(in_features=20, out_features=20, bias=True)\n",
              "  (fc3): Linear(in_features=20, out_features=20, bias=True)\n",
              "  (fc4): Linear(in_features=20, out_features=1, bias=True)\n",
              ")"
            ]
          },
          "metadata": {
            "tags": []
          },
          "execution_count": 54
        }
      ]
    },
    {
      "cell_type": "code",
      "metadata": {
        "id": "c1-v7GhdN_Na",
        "colab_type": "code",
        "outputId": "8c2017d0-6190-4fee-b5d6-ed87e55e8db8",
        "colab": {
          "base_uri": "https://localhost:8080/",
          "height": 1000
        }
      },
      "source": [
        "net = train(net, 0.00035)"
      ],
      "execution_count": 0,
      "outputs": [
        {
          "output_type": "stream",
          "text": [
            "0: 0.3673288855287764\n",
            "1: 0.3647850983672672\n",
            "2: 0.36200829678111607\n",
            "3: 0.3598915768994225\n",
            "4: 0.35801268617312115\n",
            "5: 0.35622607005967033\n",
            "6: 0.35468634963035583\n",
            "7: 0.3531975613700019\n",
            "8: 0.3518349296516842\n",
            "9: 0.3506090044975281\n",
            "10: 0.3495280212826199\n",
            "11: 0.34856463472048443\n",
            "12: 0.3476671344704098\n",
            "13: 0.3468359344535404\n",
            "14: 0.3460566500822703\n",
            "15: 0.345324887169732\n",
            "16: 0.344631165266037\n",
            "17: 0.34397093454996747\n",
            "18: 0.3433419068654378\n",
            "19: 0.3427402211560143\n",
            "20: 0.3421619070900811\n",
            "21: 0.341602881749471\n",
            "22: 0.34106043974558514\n",
            "23: 0.3405316107802921\n",
            "24: 0.3400147027439541\n",
            "25: 0.3395100732644399\n",
            "26: 0.339015930891037\n",
            "27: 0.33853088153733146\n",
            "28: 0.338054574198193\n",
            "29: 0.3375866346889072\n",
            "30: 0.3371262318558163\n",
            "31: 0.3366724020904965\n",
            "32: 0.3362244698736403\n",
            "33: 0.3357817166381412\n",
            "34: 0.335343556271659\n",
            "35: 0.33490948213471305\n",
            "36: 0.33447903725836015\n",
            "37: 0.33405180441008675\n",
            "38: 0.33362746238708496\n",
            "39: 0.33320549461576676\n",
            "40: 0.3327854971090953\n",
            "41: 0.33236778444714016\n",
            "42: 0.33195270432366264\n",
            "43: 0.3315394851896498\n",
            "44: 0.3311256733205583\n",
            "45: 0.3307078712516361\n",
            "46: 0.33028925789727104\n",
            "47: 0.3298770984013875\n",
            "48: 0.32946604159143233\n",
            "49: 0.3290545741717021\n"
          ],
          "name": "stdout"
        },
        {
          "output_type": "display_data",
          "data": {
            "image/png": "[encoded data removed]",
            "text/plain": [
              "<Figure size 432x288 with 1 Axes>"
            ]
          },
          "metadata": {
            "tags": []
          }
        },
        {
          "output_type": "stream",
          "text": [
            "Finished Training\n"
          ],
          "name": "stdout"
        }
      ]
    },
    {
      "cell_type": "code",
      "metadata": {
        "id": "Q2dXMS15OGgJ",
        "colab_type": "code",
        "outputId": "84f763f2-c7ca-4c97-f099-8998540e1f78",
        "colab": {
          "base_uri": "https://localhost:8080/",
          "height": 104
        }
      },
      "source": [
        "torch.save(net, '/content/drive/My Drive/tlink_data/t_model_100.pt')"
      ],
      "execution_count": 0,
      "outputs": [
        {
          "output_type": "stream",
          "text": [
            "/usr/local/lib/python3.6/dist-packages/torch/serialization.py:292: UserWarning: Couldn't retrieve source code for container of type Net. It won't be checked for correctness upon loading.\n",
            "  \"type \" + obj.__name__ + \". It won't be checked \"\n",
            "/usr/local/lib/python3.6/dist-packages/torch/serialization.py:292: UserWarning: Couldn't retrieve source code for container of type Linear. It won't be checked for correctness upon loading.\n",
            "  \"type \" + obj.__name__ + \". It won't be checked \"\n"
          ],
          "name": "stderr"
        }
      ]
    },
    {
      "cell_type": "code",
      "metadata": {
        "id": "UdwDNF3pb7j9",
        "colab_type": "code",
        "outputId": "5d8f9617-c51b-48f1-9c2b-266d74c8bcc3",
        "colab": {
          "base_uri": "https://localhost:8080/",
          "height": 118
        }
      },
      "source": [
        "net = torch.load('/content/drive/My Drive/tlink_data/t_model_100.pt')\n",
        "net.eval()"
      ],
      "execution_count": 0,
      "outputs": [
        {
          "output_type": "execute_result",
          "data": {
            "text/plain": [
              "Net(\n",
              "  (fc1): Linear(in_features=13, out_features=20, bias=True)\n",
              "  (fc2): Linear(in_features=20, out_features=20, bias=True)\n",
              "  (fc3): Linear(in_features=20, out_features=20, bias=True)\n",
              "  (fc4): Linear(in_features=20, out_features=1, bias=True)\n",
              ")"
            ]
          },
          "metadata": {
            "tags": []
          },
          "execution_count": 57
        }
      ]
    },
    {
      "cell_type": "code",
      "metadata": {
        "id": "HKzXVwQCcAge",
        "colab_type": "code",
        "outputId": "5931e4b2-da62-44c5-b600-36a2304f3295",
        "colab": {
          "base_uri": "https://localhost:8080/",
          "height": 1000
        }
      },
      "source": [
        "net = train(net, 0.0003)"
      ],
      "execution_count": 0,
      "outputs": [
        {
          "output_type": "stream",
          "text": [
            "0: 0.3291948172781203\n",
            "1: 0.3291075925032298\n",
            "2: 0.3277181188265483\n",
            "3: 0.3276394108931224\n",
            "4: 0.32698814736472237\n",
            "5: 0.32658838232358295\n",
            "6: 0.32623233066664803\n",
            "7: 0.32578586869769627\n",
            "8: 0.325434856944614\n",
            "9: 0.32502082652515835\n",
            "10: 0.32464510202407837\n",
            "11: 0.3242597248819139\n",
            "12: 0.3238718609015147\n",
            "13: 0.32349040110905963\n",
            "14: 0.32309655017322964\n",
            "15: 0.32268843717045254\n",
            "16: 0.32227423124843174\n",
            "17: 0.32187265157699585\n",
            "18: 0.3214734395345052\n",
            "19: 0.32107189297676086\n",
            "20: 0.32066960798369515\n",
            "21: 0.32027096880806816\n",
            "22: 0.3198810915152232\n",
            "23: 0.3195023900932736\n",
            "24: 0.31913435128000045\n",
            "25: 0.3187748822900984\n",
            "26: 0.3184219499429067\n",
            "27: 0.31807422306802535\n",
            "28: 0.31773093342781067\n",
            "29: 0.3173915677600437\n",
            "30: 0.31705567902988857\n",
            "31: 0.31672293278906083\n",
            "32: 0.3163930806848738\n",
            "33: 0.3160659571488698\n",
            "34: 0.3157413899898529\n",
            "35: 0.315419336160024\n",
            "36: 0.31509968969557023\n",
            "37: 0.3147824505964915\n",
            "38: 0.3144675526354048\n",
            "39: 0.3141549593872494\n",
            "40: 0.3138446509838104\n",
            "41: 0.313536587688658\n",
            "42: 0.3132307728131612\n",
            "43: 0.31292721298005843\n",
            "44: 0.31262586845291984\n",
            "45: 0.31232670611805385\n",
            "46: 0.3120296398798625\n",
            "47: 0.3117346300019158\n",
            "48: 0.3114415539635552\n",
            "49: 0.31115036209424335\n"
          ],
          "name": "stdout"
        },
        {
          "output_type": "display_data",
          "data": {
            "image/png": "[encoded data removed]",
            "text/plain": [
              "<Figure size 432x288 with 1 Axes>"
            ]
          },
          "metadata": {
            "tags": []
          }
        },
        {
          "output_type": "stream",
          "text": [
            "Finished Training\n"
          ],
          "name": "stdout"
        }
      ]
    },
    {
      "cell_type": "code",
      "metadata": {
        "id": "uSB3JIvDcEQu",
        "colab_type": "code",
        "outputId": "8f2f5262-9ac4-4fbb-b08e-9a4231f94512",
        "colab": {
          "base_uri": "https://localhost:8080/",
          "height": 104
        }
      },
      "source": [
        "torch.save(net, '/content/drive/My Drive/tlink_data/t_model_150.pt')"
      ],
      "execution_count": 0,
      "outputs": [
        {
          "output_type": "stream",
          "text": [
            "/usr/local/lib/python3.6/dist-packages/torch/serialization.py:292: UserWarning: Couldn't retrieve source code for container of type Net. It won't be checked for correctness upon loading.\n",
            "  \"type \" + obj.__name__ + \". It won't be checked \"\n",
            "/usr/local/lib/python3.6/dist-packages/torch/serialization.py:292: UserWarning: Couldn't retrieve source code for container of type Linear. It won't be checked for correctness upon loading.\n",
            "  \"type \" + obj.__name__ + \". It won't be checked \"\n"
          ],
          "name": "stderr"
        }
      ]
    },
    {
      "cell_type": "code",
      "metadata": {
        "id": "7_8AGlIMdTQo",
        "colab_type": "code",
        "outputId": "b3c805a3-4025-43b9-cc1d-8b6d4ce524ad",
        "colab": {
          "base_uri": "https://localhost:8080/",
          "height": 118
        }
      },
      "source": [
        "net = torch.load('/content/drive/My Drive/tlink_data/t_model_150.pt')\n",
        "net.eval()"
      ],
      "execution_count": 0,
      "outputs": [
        {
          "output_type": "execute_result",
          "data": {
            "text/plain": [
              "Net(\n",
              "  (fc1): Linear(in_features=13, out_features=20, bias=True)\n",
              "  (fc2): Linear(in_features=20, out_features=20, bias=True)\n",
              "  (fc3): Linear(in_features=20, out_features=20, bias=True)\n",
              "  (fc4): Linear(in_features=20, out_features=1, bias=True)\n",
              ")"
            ]
          },
          "metadata": {
            "tags": []
          },
          "execution_count": 60
        }
      ]
    },
    {
      "cell_type": "code",
      "metadata": {
        "id": "-MVl1TeidYou",
        "colab_type": "code",
        "outputId": "f805a6b7-58d8-4233-e231-65e0300563f3",
        "colab": {
          "base_uri": "https://localhost:8080/",
          "height": 1000
        }
      },
      "source": [
        "net = train(net, 0.00025)"
      ],
      "execution_count": 0,
      "outputs": [
        {
          "output_type": "stream",
          "text": [
            "0: 0.3115031917889913\n",
            "1: 0.3111078441143036\n",
            "2: 0.3102683656745487\n",
            "3: 0.3100426130824619\n",
            "4: 0.3097156253125932\n",
            "5: 0.3093628552224901\n",
            "6: 0.30913302302360535\n",
            "7: 0.3088282015588548\n",
            "8: 0.308566411336263\n",
            "9: 0.30829458435376483\n",
            "10: 0.30802968475553727\n",
            "11: 0.30777360995610553\n",
            "12: 0.30751345886124504\n",
            "13: 0.30726122856140137\n",
            "14: 0.3070093227757348\n",
            "15: 0.3067589865790473\n",
            "16: 0.306510051091512\n",
            "17: 0.3062602116001977\n",
            "18: 0.30601117346021867\n",
            "19: 0.30576343337694806\n",
            "20: 0.3055192530155182\n",
            "21: 0.30527885754903156\n",
            "22: 0.30504267414410907\n",
            "23: 0.3048100305928124\n",
            "24: 0.3045787579483456\n",
            "25: 0.30434821049372357\n",
            "26: 0.3041178418530358\n",
            "27: 0.30388544996579486\n",
            "28: 0.303650160630544\n",
            "29: 0.30341058638360763\n",
            "30: 0.3031788302792443\n",
            "31: 0.30295321014192367\n",
            "32: 0.3027230269379086\n",
            "33: 0.3024883204036289\n",
            "34: 0.3022533357143402\n",
            "35: 0.30202483799722457\n",
            "36: 0.30180208219422233\n",
            "37: 0.3015829589631822\n",
            "38: 0.3013644615809123\n",
            "39: 0.30114657017919755\n",
            "40: 0.30093537436591256\n",
            "41: 0.30072731110784745\n",
            "42: 0.30051964190271163\n",
            "43: 0.30031343632274204\n",
            "44: 0.30010949571927387\n",
            "45: 0.29990790949927437\n",
            "46: 0.29970867766274345\n",
            "47: 0.2995112074746026\n",
            "48: 0.29931361145443386\n",
            "49: 0.29911070730951095\n"
          ],
          "name": "stdout"
        },
        {
          "output_type": "display_data",
          "data": {
            "image/png": "[encoded data removed]",
            "text/plain": [
              "<Figure size 432x288 with 1 Axes>"
            ]
          },
          "metadata": {
            "tags": []
          }
        },
        {
          "output_type": "stream",
          "text": [
            "Finished Training\n"
          ],
          "name": "stdout"
        }
      ]
    },
    {
      "cell_type": "code",
      "metadata": {
        "id": "gsMGmxg_df-Y",
        "colab_type": "code",
        "outputId": "1cee0967-8fd2-4c87-c045-47298e8edf7b",
        "colab": {
          "base_uri": "https://localhost:8080/",
          "height": 104
        }
      },
      "source": [
        "torch.save(net, '/content/drive/My Drive/tlink_data/t_model_200.pt')"
      ],
      "execution_count": 0,
      "outputs": [
        {
          "output_type": "stream",
          "text": [
            "/usr/local/lib/python3.6/dist-packages/torch/serialization.py:292: UserWarning: Couldn't retrieve source code for container of type Net. It won't be checked for correctness upon loading.\n",
            "  \"type \" + obj.__name__ + \". It won't be checked \"\n",
            "/usr/local/lib/python3.6/dist-packages/torch/serialization.py:292: UserWarning: Couldn't retrieve source code for container of type Linear. It won't be checked for correctness upon loading.\n",
            "  \"type \" + obj.__name__ + \". It won't be checked \"\n"
          ],
          "name": "stderr"
        }
      ]
    },
    {
      "cell_type": "code",
      "metadata": {
        "id": "g9MdTDXBfB3J",
        "colab_type": "code",
        "outputId": "13ad6dc9-79ae-4c13-bfb7-63d7be2a32b0",
        "colab": {
          "base_uri": "https://localhost:8080/",
          "height": 118
        }
      },
      "source": [
        "net = torch.load('/content/drive/My Drive/tlink_data/t_model_200.pt')\n",
        "net.eval()"
      ],
      "execution_count": 0,
      "outputs": [
        {
          "output_type": "execute_result",
          "data": {
            "text/plain": [
              "Net(\n",
              "  (fc1): Linear(in_features=13, out_features=20, bias=True)\n",
              "  (fc2): Linear(in_features=20, out_features=20, bias=True)\n",
              "  (fc3): Linear(in_features=20, out_features=20, bias=True)\n",
              "  (fc4): Linear(in_features=20, out_features=1, bias=True)\n",
              ")"
            ]
          },
          "metadata": {
            "tags": []
          },
          "execution_count": 63
        }
      ]
    },
    {
      "cell_type": "code",
      "metadata": {
        "id": "43mJlRgt18VR",
        "colab_type": "code",
        "outputId": "72882866-a913-457f-8759-4cdc28d58a6c",
        "colab": {
          "base_uri": "https://localhost:8080/",
          "height": 1000
        }
      },
      "source": [
        "net = train(net, 0.0002)"
      ],
      "execution_count": 0,
      "outputs": [
        {
          "output_type": "stream",
          "text": [
            "0: 0.2995103928777907\n",
            "1: 0.2990546656979455\n",
            "2: 0.29857798748546177\n",
            "3: 0.29834416177537704\n",
            "4: 0.2982264326678382\n",
            "5: 0.29795992374420166\n",
            "6: 0.29782259795400834\n",
            "7: 0.29765794343418545\n",
            "8: 0.29748619265026516\n",
            "9: 0.297336694267061\n",
            "10: 0.29717093374994064\n",
            "11: 0.2970112595293257\n",
            "12: 0.29685406552420723\n",
            "13: 0.2966936363114251\n",
            "14: 0.2965375516149733\n",
            "15: 0.29638445377349854\n",
            "16: 0.2962336838245392\n",
            "17: 0.2960858974191878\n",
            "18: 0.2959398561053806\n",
            "19: 0.29579543073972064\n",
            "20: 0.2956526577472687\n",
            "21: 0.2955111298296187\n",
            "22: 0.2953698999351925\n",
            "23: 0.29522807399431866\n",
            "24: 0.29508646329243976\n",
            "25: 0.2949478262000614\n",
            "26: 0.29481494426727295\n",
            "27: 0.2946854531764984\n",
            "28: 0.29455650846163434\n",
            "29: 0.29442644450399613\n",
            "30: 0.29429302944077385\n",
            "31: 0.29415450824631584\n",
            "32: 0.29401202003161114\n",
            "33: 0.2938719689846039\n",
            "34: 0.2937357955508762\n",
            "35: 0.2936055428451962\n",
            "36: 0.29348084330558777\n",
            "37: 0.2933605478869544\n",
            "38: 0.2932425406244066\n",
            "39: 0.29312530491087174\n",
            "40: 0.2930086851119995\n",
            "41: 0.2928927209642198\n",
            "42: 0.2927774058447944\n",
            "43: 0.2926627861128913\n",
            "44: 0.29254888163672554\n",
            "45: 0.2924356361230214\n",
            "46: 0.2923230230808258\n",
            "47: 0.292211029264662\n",
            "48: 0.2920996348063151\n",
            "49: 0.2919887834125095\n"
          ],
          "name": "stdout"
        },
        {
          "output_type": "display_data",
          "data": {
            "image/png": "[encoded data removed]",
            "text/plain": [
              "<Figure size 432x288 with 1 Axes>"
            ]
          },
          "metadata": {
            "tags": []
          }
        },
        {
          "output_type": "stream",
          "text": [
            "Finished Training\n"
          ],
          "name": "stdout"
        }
      ]
    },
    {
      "cell_type": "code",
      "metadata": {
        "id": "9HQxwMTs2Dod",
        "colab_type": "code",
        "outputId": "39ceeb79-49bf-425b-ef37-08dfdf6ef7cc",
        "colab": {
          "base_uri": "https://localhost:8080/",
          "height": 104
        }
      },
      "source": [
        "torch.save(net, '/content/drive/My Drive/tlink_data/t_model_250.pt')"
      ],
      "execution_count": 0,
      "outputs": [
        {
          "output_type": "stream",
          "text": [
            "/usr/local/lib/python3.6/dist-packages/torch/serialization.py:292: UserWarning: Couldn't retrieve source code for container of type Net. It won't be checked for correctness upon loading.\n",
            "  \"type \" + obj.__name__ + \". It won't be checked \"\n",
            "/usr/local/lib/python3.6/dist-packages/torch/serialization.py:292: UserWarning: Couldn't retrieve source code for container of type Linear. It won't be checked for correctness upon loading.\n",
            "  \"type \" + obj.__name__ + \". It won't be checked \"\n"
          ],
          "name": "stderr"
        }
      ]
    },
    {
      "cell_type": "code",
      "metadata": {
        "id": "X9aT3evy6LiT",
        "colab_type": "code",
        "outputId": "3fa19792-c250-4aca-fa57-ba5894c68f82",
        "colab": {
          "base_uri": "https://localhost:8080/",
          "height": 118
        }
      },
      "source": [
        "net = torch.load('/content/drive/My Drive/tlink_data/t_model_250.pt')\n",
        "net.eval()"
      ],
      "execution_count": 0,
      "outputs": [
        {
          "output_type": "execute_result",
          "data": {
            "text/plain": [
              "Net(\n",
              "  (fc1): Linear(in_features=13, out_features=20, bias=True)\n",
              "  (fc2): Linear(in_features=20, out_features=20, bias=True)\n",
              "  (fc3): Linear(in_features=20, out_features=20, bias=True)\n",
              "  (fc4): Linear(in_features=20, out_features=1, bias=True)\n",
              ")"
            ]
          },
          "metadata": {
            "tags": []
          },
          "execution_count": 67
        }
      ]
    },
    {
      "cell_type": "code",
      "metadata": {
        "id": "amxb8h9o6Vnc",
        "colab_type": "code",
        "outputId": "6ddaf28a-a683-449a-f7c2-a2af978678f4",
        "colab": {
          "base_uri": "https://localhost:8080/",
          "height": 1000
        }
      },
      "source": [
        "net = train(net, 0.0002)"
      ],
      "execution_count": 0,
      "outputs": [
        {
          "output_type": "stream",
          "text": [
            "0: 0.29253894752926296\n",
            "1: 0.29221073124143815\n",
            "2: 0.29169506827990216\n",
            "3: 0.29148734940422905\n",
            "4: 0.29144712620311314\n",
            "5: 0.2912047836515639\n",
            "6: 0.2911226020918952\n",
            "7: 0.29099662105242413\n",
            "8: 0.29085777865515816\n",
            "9: 0.29075151681900024\n",
            "10: 0.290624909930759\n",
            "11: 0.2905060549577077\n",
            "12: 0.29039206107457477\n",
            "13: 0.29027379552523297\n",
            "14: 0.2901595930258433\n",
            "15: 0.29004594021373326\n",
            "16: 0.2899322940243615\n",
            "17: 0.2898203366332584\n",
            "18: 0.2897088560793135\n",
            "19: 0.2895980411105686\n",
            "20: 0.2894880937205421\n",
            "21: 0.28937869601779515\n",
            "22: 0.28926992416381836\n",
            "23: 0.2891617914040883\n",
            "24: 0.28905416859520805\n",
            "25: 0.28894709216223824\n",
            "26: 0.28884051243464154\n",
            "27: 0.2887344029214647\n",
            "28: 0.28862877355681527\n",
            "29: 0.2885235614246792\n",
            "30: 0.28841881619559395\n",
            "31: 0.28831444183985394\n",
            "32: 0.2882104648484124\n",
            "33: 0.28810687197579277\n",
            "34: 0.28800363341967267\n",
            "35: 0.2879007293118371\n",
            "36: 0.2877981662750244\n",
            "37: 0.28769586814774406\n",
            "38: 0.28759391440285575\n",
            "39: 0.28749218583106995\n",
            "40: 0.287390755282508\n",
            "41: 0.2872895366615719\n",
            "42: 0.287188536591\n",
            "43: 0.28708775838216144\n",
            "44: 0.28698715898725724\n",
            "45: 0.2868867384062873\n",
            "46: 0.28678645028008354\n",
            "47: 0.2866863144768609\n",
            "48: 0.28658628794882035\n",
            "49: 0.2864863607618544\n"
          ],
          "name": "stdout"
        },
        {
          "output_type": "display_data",
          "data": {
            "image/png": "[encoded data removed]",
            "text/plain": [
              "<Figure size 432x288 with 1 Axes>"
            ]
          },
          "metadata": {
            "tags": []
          }
        },
        {
          "output_type": "stream",
          "text": [
            "Finished Training\n"
          ],
          "name": "stdout"
        }
      ]
    },
    {
      "cell_type": "code",
      "metadata": {
        "id": "XoByjySV6bso",
        "colab_type": "code",
        "outputId": "8dd88d98-9bb7-41a6-d20d-324d1692bbbc",
        "colab": {
          "base_uri": "https://localhost:8080/",
          "height": 104
        }
      },
      "source": [
        "torch.save(net, '/content/drive/My Drive/tlink_data/t_model_300.pt')"
      ],
      "execution_count": 0,
      "outputs": [
        {
          "output_type": "stream",
          "text": [
            "/usr/local/lib/python3.6/dist-packages/torch/serialization.py:292: UserWarning: Couldn't retrieve source code for container of type Net. It won't be checked for correctness upon loading.\n",
            "  \"type \" + obj.__name__ + \". It won't be checked \"\n",
            "/usr/local/lib/python3.6/dist-packages/torch/serialization.py:292: UserWarning: Couldn't retrieve source code for container of type Linear. It won't be checked for correctness upon loading.\n",
            "  \"type \" + obj.__name__ + \". It won't be checked \"\n"
          ],
          "name": "stderr"
        }
      ]
    },
    {
      "cell_type": "code",
      "metadata": {
        "id": "XKlEdLv57yKB",
        "colab_type": "code",
        "outputId": "f74a8209-7aa1-44de-97dc-6006b6dfbede",
        "colab": {
          "base_uri": "https://localhost:8080/",
          "height": 118
        }
      },
      "source": [
        "net = torch.load('/content/drive/My Drive/tlink_data/t_model_300.pt')\n",
        "net.eval()"
      ],
      "execution_count": 0,
      "outputs": [
        {
          "output_type": "execute_result",
          "data": {
            "text/plain": [
              "Net(\n",
              "  (fc1): Linear(in_features=13, out_features=20, bias=True)\n",
              "  (fc2): Linear(in_features=20, out_features=20, bias=True)\n",
              "  (fc3): Linear(in_features=20, out_features=20, bias=True)\n",
              "  (fc4): Linear(in_features=20, out_features=1, bias=True)\n",
              ")"
            ]
          },
          "metadata": {
            "tags": []
          },
          "execution_count": 71
        }
      ]
    },
    {
      "cell_type": "code",
      "metadata": {
        "id": "Bj3mJpi7-Dn0",
        "colab_type": "code",
        "outputId": "2e56116a-da6d-4ec2-b30d-095df11e4f3b",
        "colab": {
          "base_uri": "https://localhost:8080/",
          "height": 1000
        }
      },
      "source": [
        "net = train(net, 0.0002)"
      ],
      "execution_count": 0,
      "outputs": [
        {
          "output_type": "stream",
          "text": [
            "0: 0.28707509570651585\n",
            "1: 0.2868378923998939\n",
            "2: 0.2862134145365821\n",
            "3: 0.2860320740275913\n",
            "4: 0.28599466549025643\n",
            "5: 0.2857481274339888\n",
            "6: 0.28569537070062423\n",
            "7: 0.28556555178430343\n",
            "8: 0.2854373918639289\n",
            "9: 0.2853403819931878\n",
            "10: 0.2852175599998898\n",
            "11: 0.28510844376352096\n",
            "12: 0.28499997986687553\n",
            "13: 0.28488727410634357\n",
            "14: 0.28477950228585136\n",
            "15: 0.28467080659336513\n",
            "16: 0.2845624519719018\n",
            "17: 0.28445553448465133\n",
            "18: 0.28434861699740094\n",
            "19: 0.2842425008614858\n",
            "20: 0.2841370039516025\n",
            "21: 0.28403197394477\n",
            "22: 0.2839275896549225\n",
            "23: 0.283823698759079\n",
            "24: 0.28372030125723946\n",
            "25: 0.2836173441674974\n",
            "26: 0.2835147711965773\n",
            "27: 0.28341249293751186\n",
            "28: 0.2833104862107171\n",
            "29: 0.2832086847888099\n",
            "30: 0.283107019133038\n",
            "31: 0.2830054329501258\n",
            "32: 0.28290389974912006\n",
            "33: 0.28280235330263775\n",
            "34: 0.2827008002334171\n",
            "35: 0.28259916437996757\n",
            "36: 0.28249746892187333\n",
            "37: 0.2823957171705034\n",
            "38: 0.2822939025031196\n",
            "39: 0.2821920845243666\n",
            "40: 0.2820902367432912\n",
            "41: 0.2819884220759074\n",
            "42: 0.28188667363590664\n",
            "43: 0.28178496493233574\n",
            "44: 0.28168340524037677\n",
            "45: 0.2815819051530626\n",
            "46: 0.2814805507659912\n",
            "47: 0.2813793387677934\n",
            "48: 0.2812782691584693\n",
            "49: 0.28117737505171037\n"
          ],
          "name": "stdout"
        },
        {
          "output_type": "display_data",
          "data": {
            "image/png": "[encoded data removed]",
            "text/plain": [
              "<Figure size 432x288 with 1 Axes>"
            ]
          },
          "metadata": {
            "tags": []
          }
        },
        {
          "output_type": "stream",
          "text": [
            "Finished Training\n"
          ],
          "name": "stdout"
        }
      ]
    },
    {
      "cell_type": "code",
      "metadata": {
        "id": "QqtmWLW8-KWF",
        "colab_type": "code",
        "outputId": "41a8a73e-c106-4fb2-86a5-b8d6cd3e2ded",
        "colab": {
          "base_uri": "https://localhost:8080/",
          "height": 104
        }
      },
      "source": [
        "torch.save(net, '/content/drive/My Drive/tlink_data/t_model_350.pt')"
      ],
      "execution_count": 0,
      "outputs": [
        {
          "output_type": "stream",
          "text": [
            "/usr/local/lib/python3.6/dist-packages/torch/serialization.py:292: UserWarning: Couldn't retrieve source code for container of type Net. It won't be checked for correctness upon loading.\n",
            "  \"type \" + obj.__name__ + \". It won't be checked \"\n",
            "/usr/local/lib/python3.6/dist-packages/torch/serialization.py:292: UserWarning: Couldn't retrieve source code for container of type Linear. It won't be checked for correctness upon loading.\n",
            "  \"type \" + obj.__name__ + \". It won't be checked \"\n"
          ],
          "name": "stderr"
        }
      ]
    },
    {
      "cell_type": "code",
      "metadata": {
        "id": "g_QVTZlI_znS",
        "colab_type": "code",
        "outputId": "ea5762e5-b431-430e-d289-c62c0b48d50e",
        "colab": {
          "base_uri": "https://localhost:8080/",
          "height": 118
        }
      },
      "source": [
        "net = torch.load('/content/drive/My Drive/tlink_data/t_model_350.pt')\n",
        "net.eval()"
      ],
      "execution_count": 0,
      "outputs": [
        {
          "output_type": "execute_result",
          "data": {
            "text/plain": [
              "Net(\n",
              "  (fc1): Linear(in_features=13, out_features=20, bias=True)\n",
              "  (fc2): Linear(in_features=20, out_features=20, bias=True)\n",
              "  (fc3): Linear(in_features=20, out_features=20, bias=True)\n",
              "  (fc4): Linear(in_features=20, out_features=1, bias=True)\n",
              ")"
            ]
          },
          "metadata": {
            "tags": []
          },
          "execution_count": 74
        }
      ]
    },
    {
      "cell_type": "code",
      "metadata": {
        "id": "7qAkLnby_34H",
        "colab_type": "code",
        "outputId": "b00a76e3-279f-4bcf-97a3-0c74189eba90",
        "colab": {
          "base_uri": "https://localhost:8080/",
          "height": 1000
        }
      },
      "source": [
        "net = train(net, 0.0001)"
      ],
      "execution_count": 0,
      "outputs": [
        {
          "output_type": "stream",
          "text": [
            "0: 0.2815048330359989\n",
            "1: 0.2809203002187941\n",
            "2: 0.28099700808525085\n",
            "3: 0.2807939913537767\n",
            "4: 0.2806946370336745\n",
            "5: 0.2806787888209025\n",
            "6: 0.2806086175971561\n",
            "7: 0.28052960170639885\n",
            "8: 0.28047550717989606\n",
            "9: 0.280422654416826\n",
            "10: 0.2803616159492069\n",
            "11: 0.28030265702141655\n",
            "12: 0.28024739358160233\n",
            "13: 0.2801915638976627\n",
            "14: 0.28013524744245744\n",
            "15: 0.2800799575116899\n",
            "16: 0.28002538283665973\n",
            "17: 0.2799709737300873\n",
            "18: 0.2799168560240004\n",
            "19: 0.27986318204138017\n",
            "20: 0.2798098888662126\n",
            "21: 0.2797568705346849\n",
            "22: 0.27970416016048855\n",
            "23: 0.27965174780951607\n",
            "24: 0.2795996334817674\n",
            "25: 0.27954777744081283\n",
            "26: 0.2794961796866523\n",
            "27: 0.2794448600875007\n",
            "28: 0.2793937590387132\n",
            "29: 0.2793429394563039\n",
            "30: 0.2792923284901513\n",
            "31: 0.2792419460084703\n",
            "32: 0.2791917820771535\n",
            "33: 0.2791418466303084\n",
            "34: 0.27909211979971993\n",
            "35: 0.2790425916512807\n",
            "36: 0.27899327543046737\n",
            "37: 0.278944151269065\n",
            "38: 0.2788952092329661\n",
            "39: 0.27884649236996967\n",
            "40: 0.278797941075431\n",
            "41: 0.2787495619720883\n",
            "42: 0.27870138817363316\n",
            "43: 0.2786533700095283\n",
            "44: 0.2786055306593577\n",
            "45: 0.2785578668117523\n",
            "46: 0.2785103850894504\n",
            "47: 0.27846305237876046\n",
            "48: 0.27841588192515904\n",
            "49: 0.27836887704001534\n",
            "50: 0.2783220344119602\n",
            "51: 0.2782753308614095\n",
            "52: 0.27822879287931657\n",
            "53: 0.27818241053157383\n",
            "54: 0.2781361440817515\n",
            "55: 0.2780900498231252\n",
            "56: 0.27804407808515763\n",
            "57: 0.2779982950952318\n",
            "58: 0.2779526048236423\n",
            "59: 0.277907047006819\n",
            "60: 0.277861624956131\n",
            "61: 0.2778163386715783\n",
            "62: 0.2777711699406306\n",
            "63: 0.2777261320087645\n",
            "64: 0.2776812132861879\n",
            "65: 0.27763641211721635\n",
            "66: 0.2775917301575343\n",
            "67: 0.2775471591287189\n",
            "68: 0.2775027122762468\n",
            "69: 0.2774583531750573\n",
            "70: 0.27741412652863395\n",
            "71: 0.2773699826664395\n",
            "72: 0.27732594311237335\n",
            "73: 0.2772819979323281\n",
            "74: 0.2772381587160958\n",
            "75: 0.27719442380799186\n",
            "76: 0.2771507716841168\n",
            "77: 0.2771072056558397\n",
            "78: 0.2770637373129527\n",
            "79: 0.2770203451315562\n",
            "80: 0.2769770489798652\n",
            "81: 0.27693382071124184\n",
            "82: 0.2768906851609548\n",
            "83: 0.27684765060742694\n",
            "84: 0.2768046541346444\n",
            "85: 0.2767617652813594\n",
            "86: 0.2767189343770345\n",
            "87: 0.27667616307735443\n",
            "88: 0.27663348615169525\n",
            "89: 0.27659087048636544\n",
            "90: 0.2765483359495799\n",
            "91: 0.27650585439470077\n",
            "92: 0.27646345562405056\n",
            "93: 0.27642112142509884\n",
            "94: 0.2763788352409999\n",
            "95: 0.2763366401195526\n",
            "96: 0.2762945046027501\n",
            "97: 0.27625242206785416\n",
            "98: 0.27621042562855613\n",
            "99: 0.27616846064726513\n",
            "100: 0.2761265966627333\n",
            "101: 0.2760847840044234\n",
            "102: 0.2760430309507582\n",
            "103: 0.27600134081310695\n",
            "104: 0.27595972021420795\n",
            "105: 0.2759181823995378\n",
            "106: 0.27587669756677413\n",
            "107: 0.2758352855841319\n",
            "108: 0.2757939381731881\n",
            "109: 0.275752670235104\n",
            "110: 0.27571146686871845\n",
            "111: 0.2756703264183468\n",
            "112: 0.27562927537494236\n",
            "113: 0.27558829221460557\n",
            "114: 0.2755473719702827\n",
            "115: 0.27550656265682644\n",
            "116: 0.27546580135822296\n",
            "117: 0.27542511953247917\n",
            "118: 0.2753845287693871\n",
            "119: 0.27534403072463143\n",
            "120: 0.2753035889731513\n",
            "121: 0.2752632515297996\n",
            "122: 0.27522298362520004\n",
            "123: 0.2751827985048294\n",
            "124: 0.27514271438121796\n",
            "125: 0.27510271304183537\n",
            "126: 0.27506281269921196\n",
            "127: 0.2750229835510254\n",
            "128: 0.2749832404984368\n",
            "129: 0.27494361168808407\n",
            "130: 0.2749040524164836\n",
            "131: 0.27486458751890397\n",
            "132: 0.27482522858513725\n",
            "133: 0.27478595574696857\n",
            "134: 0.2747467855612437\n",
            "135: 0.2747076948483785\n",
            "136: 0.2746686985095342\n",
            "137: 0.2746298048231337\n",
            "138: 0.27459101378917694\n",
            "139: 0.27455231381787193\n",
            "140: 0.2745136900080575\n",
            "141: 0.27447519534164005\n",
            "142: 0.27443678511513603\n",
            "143: 0.27439845932854545\n",
            "144: 0.2743602328830295\n",
            "145: 0.27432212233543396\n",
            "146: 0.27428408298227525\n",
            "147: 0.27424615290429855\n",
            "148: 0.2742083039548662\n",
            "149: 0.27417055931356216\n",
            "150: 0.27413290904627907\n",
            "151: 0.2740953365961711\n",
            "152: 0.27405787176556057\n",
            "153: 0.2740205095873939\n",
            "154: 0.27398324343893266\n",
            "155: 0.27394603689511615\n",
            "156: 0.27390894293785095\n",
            "157: 0.27387194832166034\n",
            "158: 0.27383501331011456\n",
            "159: 0.2737981809510125\n",
            "160: 0.27376146117846173\n",
            "161: 0.2737247943878174\n",
            "162: 0.2736882269382477\n",
            "163: 0.27365174889564514\n",
            "164: 0.2736153503259023\n",
            "165: 0.27357904613018036\n",
            "166: 0.27354280485047233\n",
            "167: 0.2735066811243693\n",
            "168: 0.2734706136915419\n",
            "169: 0.2734346091747284\n",
            "170: 0.2733987189001507\n",
            "171: 0.2733628782961104\n",
            "172: 0.27332713703314465\n",
            "173: 0.2732914752430386\n",
            "174: 0.2732558614677853\n",
            "175: 0.27322032550970715\n",
            "176: 0.27318491372797227\n",
            "177: 0.2731495317485597\n",
            "178: 0.27311422758632237\n",
            "179: 0.2730790028969447\n",
            "180: 0.2730438560247421\n",
            "181: 0.2730087737242381\n",
            "182: 0.27297377420796287\n",
            "183: 0.2729388392633862\n",
            "184: 0.2729039705461926\n",
            "185: 0.27286916640069747\n",
            "186: 0.2728344268269009\n",
            "187: 0.2727997700373332\n",
            "188: 0.2727651629183028\n",
            "189: 0.27273062864939374\n",
            "190: 0.2726961721976598\n",
            "191: 0.2726617753505707\n",
            "192: 0.27262743645244175\n",
            "193: 0.2725931571589576\n",
            "194: 0.2725589523712794\n",
            "195: 0.2725248055325614\n",
            "196: 0.2724907166428036\n",
            "197: 0.27245669232474434\n",
            "198: 0.2724227209885915\n",
            "199: 0.2723888092570835\n",
            "200: 0.27235497037569684\n",
            "201: 0.2723211795091629\n",
            "202: 0.27228744328022003\n",
            "203: 0.27225373023086125\n",
            "204: 0.27222013142373824\n",
            "205: 0.2721865607632531\n",
            "206: 0.27215303149488235\n",
            "207: 0.2721195701095793\n",
            "208: 0.27208613687091404\n",
            "209: 0.2720527880721622\n",
            "210: 0.2720194607973099\n",
            "211: 0.2719862096839481\n",
            "212: 0.2719529800944858\n",
            "213: 0.2719198018312454\n",
            "214: 0.2718866881397035\n",
            "215: 0.27185360425048405\n",
            "216: 0.2718205650647481\n",
            "217: 0.27178757389386493\n",
            "218: 0.2717546472946803\n",
            "219: 0.2717217471864488\n",
            "220: 0.2716888752248552\n",
            "221: 0.2716560661792755\n",
            "222: 0.27162330514854854\n",
            "223: 0.2715905573632982\n",
            "224: 0.27155788242816925\n",
            "225: 0.2715252521965239\n",
            "226: 0.2714926517672009\n",
            "227: 0.27146007617314655\n",
            "228: 0.2714275535609987\n",
            "229: 0.27139507565233445\n",
            "230: 0.2713626374801\n",
            "231: 0.27133024069998\n",
            "232: 0.2712978886233436\n",
            "233: 0.27126557131608325\n",
            "234: 0.2712332954009374\n",
            "235: 0.27120107577906716\n",
            "236: 0.27116887933678097\n",
            "237: 0.2711367391877704\n",
            "238: 0.2711046255297131\n",
            "239: 0.27107254995240104\n",
            "240: 0.27104050748878056\n",
            "241: 0.27100852131843567\n",
            "242: 0.27097657157315147\n",
            "243: 0.27094463672902847\n",
            "244: 0.2709127763907115\n",
            "245: 0.27088092433081734\n",
            "246: 0.2708491086959839\n",
            "247: 0.2708173361089494\n",
            "248: 0.2707855933242374\n",
            "249: 0.2707538985543781\n"
          ],
          "name": "stdout"
        },
        {
          "output_type": "display_data",
          "data": {
            "image/png": "[encoded data removed]",
            "text/plain": [
              "<Figure size 432x288 with 1 Axes>"
            ]
          },
          "metadata": {
            "tags": []
          }
        },
        {
          "output_type": "stream",
          "text": [
            "Finished Training\n"
          ],
          "name": "stdout"
        }
      ]
    },
    {
      "cell_type": "code",
      "metadata": {
        "id": "6aeODnoFAJge",
        "colab_type": "code",
        "outputId": "0da36587-c2fa-4937-a81c-87192e686e33",
        "colab": {
          "base_uri": "https://localhost:8080/",
          "height": 104
        }
      },
      "source": [
        "torch.save(net, '/content/drive/My Drive/tlink_data/t_model_600.pt')"
      ],
      "execution_count": 0,
      "outputs": [
        {
          "output_type": "stream",
          "text": [
            "/usr/local/lib/python3.6/dist-packages/torch/serialization.py:292: UserWarning: Couldn't retrieve source code for container of type Net. It won't be checked for correctness upon loading.\n",
            "  \"type \" + obj.__name__ + \". It won't be checked \"\n",
            "/usr/local/lib/python3.6/dist-packages/torch/serialization.py:292: UserWarning: Couldn't retrieve source code for container of type Linear. It won't be checked for correctness upon loading.\n",
            "  \"type \" + obj.__name__ + \". It won't be checked \"\n"
          ],
          "name": "stderr"
        }
      ]
    },
    {
      "cell_type": "code",
      "metadata": {
        "id": "0CmOcHzZH5wy",
        "colab_type": "code",
        "colab": {}
      },
      "source": [
        ""
      ],
      "execution_count": 0,
      "outputs": []
    }
  ]
}